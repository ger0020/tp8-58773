{
 "cells": [
  {
   "cell_type": "code",
   "execution_count": 1,
   "metadata": {},
   "outputs": [
    {
     "ename": "ModuleNotFoundError",
     "evalue": "No module named 'seaborn'",
     "output_type": "error",
     "traceback": [
      "\u001b[1;31m---------------------------------------------------------------------------\u001b[0m",
      "\u001b[1;31mModuleNotFoundError\u001b[0m                       Traceback (most recent call last)",
      "Cell \u001b[1;32mIn[1], line 5\u001b[0m\n\u001b[0;32m      3\u001b[0m \u001b[38;5;28;01mfrom\u001b[39;00m \u001b[38;5;21;01mdatetime\u001b[39;00m \u001b[38;5;28;01mimport\u001b[39;00m datetime\n\u001b[0;32m      4\u001b[0m \u001b[38;5;28;01mimport\u001b[39;00m \u001b[38;5;21;01mrandom\u001b[39;00m\n\u001b[1;32m----> 5\u001b[0m \u001b[38;5;28;01mimport\u001b[39;00m \u001b[38;5;21;01mseaborn\u001b[39;00m \u001b[38;5;28;01mas\u001b[39;00m \u001b[38;5;21;01msns\u001b[39;00m\n",
      "\u001b[1;31mModuleNotFoundError\u001b[0m: No module named 'seaborn'"
     ]
    }
   ],
   "source": [
    "\n",
    "import pandas as pd\n",
    "import numpy as np\n",
    "from datetime import datetime\n",
    "import random\n",
    "import seaborn as sns\n"
   ]
  },
  {
   "cell_type": "code",
   "execution_count": null,
   "metadata": {},
   "outputs": [],
   "source": [
    "import pandas as pd\n",
    "import random\n",
    "\n",
    "# Datos base\n",
    "sucursales = ['Sucursal Norte', 'Sucursal Centro', 'Sucursal Sur']\n",
    "\n",
    "gaseosas = {\n",
    "    'Coca Cola': (2000, 10000, 1.3, 1.1),  # precio base, unidades vendidas, variacion anual precio, variación anual unidades\n",
    "    'Fanta':     (1800,  2000, 0.8, 0.8),\n",
    "    'Sprite':    (1900,  8000, 1.1, 0.9),\n",
    "    '7 Up':      (1500,  1000, 1.0, 1.5),\n",
    "    'Pepsi':     (1700,  8000, 1.2, 1.0),\n",
    "}\n",
    "\n",
    "# Datos de vinos\n",
    "vinos = {\n",
    "    'Cabernet Sauvignon': (3000, 5000, 1.2, 1.1),\n",
    "    'Merlot':             (2500, 4000, 1.1, 1.0),\n",
    "    'Pinot Noir':         (3500, 3000, 1.3, 1.2),\n",
    "    'Chardonnay':         (2800, 4500, 1.2, 1.1),\n",
    "    'Sauvignon Blanc':    (2600, 3500, 1.1, 1.0),\n",
    "}\n",
    "\n",
    "productos = {\n",
    "    'gaseosas': gaseosas,\n",
    "    'vinos': vinos,\n",
    "}\n",
    "\n",
    "# productos = gaseosas\n",
    "# Generar datos\n",
    "for tipo, variantes in productos.items():\n",
    "    datos = []\n",
    "    for año in range(2020, 2024 + 1):\n",
    "        for mes in range(1, 12 + 1):\n",
    "            for sucursal in sucursales:\n",
    "                for producto, (precio_base, unidades_base, var_precio, var_unidades) in variantes.items():\n",
    "                    # Calcular unidades vendidas y precio con variación anual\n",
    "                    unidades_anuales = unidades_base * (var_unidades ** (año - 2020))\n",
    "                    precio_anual = precio_base * (var_precio ** (año - 2020))\n",
    "                    \n",
    "                    unidades = int(unidades_anuales * random.uniform(0.9, 1.1))\n",
    "                    precio = precio_anual * random.uniform(0.9, 1.1)\n",
    "                    \n",
    "                    # Calcular ingresos y costos\n",
    "                    ingreso = unidades * precio\n",
    "                    costo = unidades * precio * random.uniform(0.6, 0.8)\n",
    "                    \n",
    "                    datos.append({\n",
    "                        'Sucursal': sucursal,\n",
    "                        'Producto': producto,\n",
    "                        'Año': año,\n",
    "                        'Mes': mes,\n",
    "                        'Unidades_vendidas': unidades,\n",
    "                        'Ingreso_total': round(ingreso, 2),\n",
    "                        'Costo_total': round(costo, 2)\n",
    "                    })\n",
    "\n",
    "    # Crear DataFrame y guardar como CSV\n",
    "    df = pd.DataFrame(datos)\n",
    "    destino = f'{tipo}.csv'\n",
    "    df.to_csv(destino, index=False)\n",
    "    print(f\"Se han generado {len(datos)} registros de ventas y guardado en '{destino}'\")\n"
   ]
  },
  {
   "cell_type": "code",
   "execution_count": null,
   "metadata": {},
   "outputs": [],
   "source": [
    "# Nueva celda para visualización\n",
    "import matplotlib.pyplot as plt\n",
    "import seaborn as sns\n",
    "\n",
    "# Configurar el estilo\n",
    "# plt.style.use('seaborn')\n",
    "fig, (ax1) = plt.subplots(1, 1, figsize=(12, 15))\n",
    "\n",
    "# 1. Ventas por producto a lo largo del tiempo\n",
    "ventas_producto = df.groupby(['Año', 'Mes', 'Producto'])['Unidades_vendidas'].sum().reset_index()\n",
    "productos = df['Producto'].unique()\n",
    "\n",
    "for producto in productos:\n",
    "    data = ventas_producto[ventas_producto['Producto'] == producto]\n",
    "    ax1.plot(data['Año'].astype(str) + '-' + data['Mes'].astype(str), data['Unidades_vendidas'], label=producto)\n",
    "\n",
    "ax1.set_title('Ventas por Producto')\n",
    "ax1.set_xlabel('Período (Año-Mes)')\n",
    "ax1.set_ylabel('Unidades Vendidas')\n",
    "# ax1.set_ylim([0, 10000])\n",
    "ax1.legend()\n",
    "plt.xticks(rotation=90)\n",
    "plt.show()\n",
    "\n"
   ]
  }
 ],
 "metadata": {
  "kernelspec": {
   "display_name": "Python 3",
   "language": "python",
   "name": "python3"
  },
  "language_info": {
   "codemirror_mode": {
    "name": "ipython",
    "version": 3
   },
   "file_extension": ".py",
   "mimetype": "text/x-python",
   "name": "python",
   "nbconvert_exporter": "python",
   "pygments_lexer": "ipython3",
   "version": "3.12.7"
  }
 },
 "nbformat": 4,
 "nbformat_minor": 2
}
